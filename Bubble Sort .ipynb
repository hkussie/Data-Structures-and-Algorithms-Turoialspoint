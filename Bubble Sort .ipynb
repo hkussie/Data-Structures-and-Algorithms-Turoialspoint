{
 "cells": [
  {
   "cell_type": "code",
   "execution_count": 2,
   "metadata": {},
   "outputs": [
    {
     "name": "stdout",
     "output_type": "stream",
     "text": [
      "3.6.4\n"
     ]
    }
   ],
   "source": [
    "import platform \n",
    "print(platform.python_version())"
   ]
  },
  {
   "cell_type": "markdown",
   "metadata": {},
   "source": [
    "# BubbleSort Overview: \n",
    "\n",
    "### Algorithm: \n",
    "\n",
    "begin BubbleSort(list)\n",
    "\n",
    "   for all elements of list\n",
    "      if list[i] > list[i+1]\n",
    "         swap(list[i], list[i+1])\n",
    "      end if\n",
    "   end for\n",
    "   \n",
    "   return list\n",
    "   \n",
    "end BubbleSort\n",
    "\n",
    "### PsuedoCode: \n",
    "procedure bubbleSort( list : array of items )\n",
    "\n",
    "   loop = list.count;\n",
    "   \n",
    "   for i = 0 to loop-1 do:\n",
    "      swapped = false\n",
    "\t\t\n",
    "      for j = 0 to loop-1 do:\n",
    "      \n",
    "         /* compare the adjacent elements */   \n",
    "         if list[j] > list[j+1] then\n",
    "            /* swap them */\n",
    "            swap( list[j], list[j+1] )\t\t \n",
    "            swapped = true\n",
    "         end if\n",
    "         \n",
    "      end for\n",
    "      \n",
    "      /*if no number was swapped that means \n",
    "      array is sorted now, break the loop.*/\n",
    "      \n",
    "      if(not swapped) then\n",
    "         break\n",
    "      end if\n",
    "      \n",
    "   end for\n",
    "   \n",
    "end procedure return list"
   ]
  },
  {
   "cell_type": "code",
   "execution_count": 40,
   "metadata": {},
   "outputs": [
    {
     "data": {
      "text/plain": [
       "[1, 2, 3, 11, 19]"
      ]
     },
     "execution_count": 40,
     "metadata": {},
     "output_type": "execute_result"
    }
   ],
   "source": [
    "def BubbleSort(items):\n",
    "    for i in range(0, len(items) - 1):\n",
    "        for j in range(0, len(items) - 1 - i):\n",
    "            if items[j] > items[j + 1]: \n",
    "                items[j], items[j + 1] = items[j + 1], items[j]\n",
    "    return items \n",
    "        \n",
    "items = [11, 2, 3, 1, 19]\n",
    "BubbleSort(items)"
   ]
  }
 ],
 "metadata": {
  "kernelspec": {
   "display_name": "Python 3",
   "language": "python",
   "name": "python3"
  },
  "language_info": {
   "codemirror_mode": {
    "name": "ipython",
    "version": 3
   },
   "file_extension": ".py",
   "mimetype": "text/x-python",
   "name": "python",
   "nbconvert_exporter": "python",
   "pygments_lexer": "ipython3",
   "version": "3.6.4"
  }
 },
 "nbformat": 4,
 "nbformat_minor": 2
}
