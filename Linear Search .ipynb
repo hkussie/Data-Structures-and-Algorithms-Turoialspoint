{
 "cells": [
  {
   "cell_type": "code",
   "execution_count": 1,
   "metadata": {},
   "outputs": [
    {
     "name": "stdout",
     "output_type": "stream",
     "text": [
      "3.6.4\n"
     ]
    }
   ],
   "source": [
    "import platform \n",
    "print(platform.python_version())"
   ]
  },
  {
   "cell_type": "markdown",
   "metadata": {},
   "source": [
    "# Algorithm \n",
    "\n",
    "Linear Search ( Array A, Value x)\n",
    "\n",
    "Step 1: Set i to 1\n",
    "\n",
    "Step 2: if i > n then go to step 7\n",
    "\n",
    "Step 3: if A[i] = x then go to step 6\n",
    "\n",
    "Step 4: Set i to i + 1\n",
    "\n",
    "Step 5: Go to Step 2\n",
    "\n",
    "Step 6: Print Element x Found at index i and go to step 8\n",
    "\n",
    "Step 7: Print element not found\n",
    "\n",
    "Step 8: Exit"
   ]
  },
  {
   "cell_type": "code",
   "execution_count": 19,
   "metadata": {},
   "outputs": [
    {
     "data": {
      "text/plain": [
       "2"
      ]
     },
     "execution_count": 19,
     "metadata": {},
     "output_type": "execute_result"
    }
   ],
   "source": [
    "def LinearSearch(items, x):\n",
    "    for n in range(len(items)):\n",
    "        if items[n] == x: \n",
    "            return n\n",
    "    return -1\n",
    "\n",
    "items = [1, 2, 3, 4]\n",
    "x = 3\n",
    "LinearSearch(items, x)"
   ]
  }
 ],
 "metadata": {
  "kernelspec": {
   "display_name": "Python 3",
   "language": "python",
   "name": "python3"
  },
  "language_info": {
   "codemirror_mode": {
    "name": "ipython",
    "version": 3
   },
   "file_extension": ".py",
   "mimetype": "text/x-python",
   "name": "python",
   "nbconvert_exporter": "python",
   "pygments_lexer": "ipython3",
   "version": "3.6.4"
  }
 },
 "nbformat": 4,
 "nbformat_minor": 2
}
