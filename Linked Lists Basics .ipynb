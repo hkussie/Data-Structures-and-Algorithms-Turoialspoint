{
 "cells": [
  {
   "cell_type": "code",
   "execution_count": 1,
   "metadata": {},
   "outputs": [
    {
     "name": "stdout",
     "output_type": "stream",
     "text": [
      "3.6.4\n"
     ]
    }
   ],
   "source": [
    "import platform \n",
    "print(platform.python_version())"
   ]
  },
  {
   "cell_type": "markdown",
   "metadata": {},
   "source": [
    "# Linked List Basics: \n",
    "    - A linked list can be thought of as chain nodes, where every node points to the next node. \n",
    "    - The following are important points to be considered when implementing a linked list: \n",
    "            1. A linked list contains a link element called first, (or a head) node\n",
    "            2. Each link carries a data field and a link field called next\n",
    "            3. Each link is linked with its next link using its next link\n",
    "            4. Last link carries a link as null to mark the end of a list\n",
    "# Types of Link Lists: \n",
    "    - The following are the types of linked lists: \n",
    "            1. Simple Linked List - item navigation is only forward \n",
    "            2. Doubly Linked List - items can be navigated forward and backward \n",
    "            3. Circular Linked List - last item contains link of the first element as \n",
    "               next and the first element has a link to the last element as previous. \n",
    "# Basic Operations: \n",
    "    - The following are basic operations, supported by any list:\n",
    "            1. Insertion - adds an element at the beginning of the list \n",
    "            2. Deletion - deletes an element at the beginning of the list \n",
    "            3. Display - displays the complete list \n",
    "            4. Search - searches an element given a particular key \n",
    "            5. Delete - deletes an element using the given key "
   ]
  },
  {
   "cell_type": "markdown",
   "metadata": {},
   "source": [
    "# Linked List Implementation: Order of Operations O(N<sup>2</sup>)"
   ]
  },
  {
   "cell_type": "code",
   "execution_count": 8,
   "metadata": {},
   "outputs": [
    {
     "data": {
      "text/plain": [
       "('Full linkedlist: ', [1], [2])"
      ]
     },
     "execution_count": 8,
     "metadata": {},
     "output_type": "execute_result"
    }
   ],
   "source": [
    "class HeadNode:\n",
    "    def __init__(self, head, item):\n",
    "        self.head = head \n",
    "        self.item = item \n",
    "    def isempty(self):\n",
    "        if len(self.head) == 0: \n",
    "            return \"Head node is empty: \", self.head\n",
    "        else: \n",
    "            return \"Head node is already populated: \", self.head\n",
    "    def inserthead(self):\n",
    "        if len(self.head) == 0: \n",
    "            self.head.append(self.item)\n",
    "            return self.head \n",
    "        else: \n",
    "            return \"Full\"\n",
    "\n",
    "class InsertNextNode(HeadNode):\n",
    "    def __init__(self, head, rightnode, item, nextitem):\n",
    "        self.head = head \n",
    "        self.rightnode = rightnode \n",
    "        self.item = item \n",
    "        self.nextitem = nextitem\n",
    "    def insertnextnode(self):\n",
    "        if (len(self.head) != 0):\n",
    "            self.rightnode.append(self.nextitem)\n",
    "            return \"You're next node is equal too: \", self.rightnode\n",
    "        else: \n",
    "            return \"Next node has been filled\"\n",
    "    def getlinkedlist(self):\n",
    "        if (len(self.head) and len(self.rightnode) != 0):\n",
    "            return \"Full linkedlist: \", self.head, self.rightnode\n",
    "        else: \n",
    "            return \"Not all nodes are full\"\n",
    "\n",
    "c = InsertNextNode([], [], 1, 2)\n",
    "c.inserthead()\n",
    "c.insertnextnode()\n",
    "c.getlinkedlist()"
   ]
  },
  {
   "cell_type": "markdown",
   "metadata": {},
   "source": [
    "# Linked List Implementation: Order of Operations O(N)"
   ]
  },
  {
   "cell_type": "code",
   "execution_count": 38,
   "metadata": {},
   "outputs": [
    {
     "data": {
      "text/plain": [
       "('What you have so far: ', 'There', None)"
      ]
     },
     "execution_count": 38,
     "metadata": {},
     "output_type": "execute_result"
    }
   ],
   "source": [
    "class LinkedList: \n",
    "    def __init__(self, head=None):\n",
    "        self.head = head \n",
    "        self.nextnode = None\n",
    "    def getlinkedlist(self):\n",
    "        if (self.head and self.nextnode != None):\n",
    "            return \"Linked List: \", self.head, self.nextnode\n",
    "        else: \n",
    "            return \"What you have so far: \", self.head, self.nextnode\n",
    "    \n",
    "n1 = LinkedList(\"Hello\")\n",
    "n2 = LinkedList(\"There\")\n",
    "n3 = LinkedList(\"This is a test\")\n",
    "\n",
    "n1.nextnode = n2\n",
    "n1.nextnode.getlinkedlist()"
   ]
  },
  {
   "cell_type": "code",
   "execution_count": 36,
   "metadata": {},
   "outputs": [
    {
     "data": {
      "text/plain": [
       "<__main__.LinkedList at 0x10ce79d68>"
      ]
     },
     "execution_count": 36,
     "metadata": {},
     "output_type": "execute_result"
    }
   ],
   "source": [
    "class LinkedList: \n",
    "    def __init__(self, head=None):\n",
    "        self.head = head \n",
    "        self.rightnode = None\n",
    "    def getlist(self):\n",
    "        if (self.head != None and self.rightnode != None):\n",
    "            return self\n",
    "        else: \n",
    "            return \"Nodes not populated\"\n",
    "    \n",
    "c1 = LinkedList(\"Hello\")\n",
    "c2 = LinkedList(\"There\")\n",
    "\n",
    "c1.rightnode = c2\n",
    "c2.rightnode = c1 \n",
    "\n",
    "c1.getlist()\n",
    "c2.getlist()"
   ]
  }
 ],
 "metadata": {
  "kernelspec": {
   "display_name": "Python 3",
   "language": "python",
   "name": "python3"
  },
  "language_info": {
   "codemirror_mode": {
    "name": "ipython",
    "version": 3
   },
   "file_extension": ".py",
   "mimetype": "text/x-python",
   "name": "python",
   "nbconvert_exporter": "python",
   "pygments_lexer": "ipython3",
   "version": "3.6.4"
  }
 },
 "nbformat": 4,
 "nbformat_minor": 2
}
